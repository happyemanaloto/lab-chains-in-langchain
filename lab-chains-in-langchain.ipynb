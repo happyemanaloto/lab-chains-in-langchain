{
 "cells": [
  {
   "cell_type": "markdown",
   "id": "52824b89-532a-4e54-87e9-1410813cd39e",
   "metadata": {},
   "source": [
    "# Lab | Chains in LangChain\n",
    "\n",
    "## Outline\n",
    "\n",
    "* LLMChain\n",
    "* Sequential Chains\n",
    "  * SimpleSequentialChain\n",
    "  * SequentialChain\n",
    "* Router Chain"
   ]
  },
  {
   "cell_type": "code",
   "execution_count": 1,
   "id": "541eb2f1",
   "metadata": {},
   "outputs": [],
   "source": [
    "import warnings\n",
    "warnings.filterwarnings('ignore')"
   ]
  },
  {
   "cell_type": "code",
   "execution_count": 2,
   "id": "b7ed03ed-1322-49e3-b2a2-33e94fb592ef",
   "metadata": {
    "tags": []
   },
   "outputs": [],
   "source": [
    "import os\n",
    "\n",
    "from dotenv import load_dotenv, find_dotenv\n",
    "_ = load_dotenv(find_dotenv())\n",
    "\n",
    "OPENAI_API_KEY  = os.getenv('OPENAI_API_KEY')\n",
    "HUGGINGFACEHUB_API_TOKEN = os.getenv('HUGGINGFACEHUB_API_TOKEN')"
   ]
  },
  {
   "cell_type": "code",
   "execution_count": 4,
   "id": "b84e441b",
   "metadata": {
    "tags": []
   },
   "outputs": [
    {
     "name": "stdout",
     "output_type": "stream",
     "text": [
      "Requirement already satisfied: pandas in c:\\users\\happy\\anaconda3_32\\lib\\site-packages (2.2.2)\n",
      "Requirement already satisfied: numpy>=1.26.0 in c:\\users\\happy\\anaconda3_32\\lib\\site-packages (from pandas) (1.26.4)\n",
      "Requirement already satisfied: python-dateutil>=2.8.2 in c:\\users\\happy\\anaconda3_32\\lib\\site-packages (from pandas) (2.9.0.post0)\n",
      "Requirement already satisfied: pytz>=2020.1 in c:\\users\\happy\\anaconda3_32\\lib\\site-packages (from pandas) (2024.1)\n",
      "Requirement already satisfied: tzdata>=2022.7 in c:\\users\\happy\\anaconda3_32\\lib\\site-packages (from pandas) (2023.3)\n",
      "Requirement already satisfied: six>=1.5 in c:\\users\\happy\\anaconda3_32\\lib\\site-packages (from python-dateutil>=2.8.2->pandas) (1.16.0)\n"
     ]
    }
   ],
   "source": [
    "!pip install pandas"
   ]
  },
  {
   "cell_type": "code",
   "execution_count": 6,
   "id": "974acf8e-8f88-42de-88f8-40a82cb58e8b",
   "metadata": {
    "tags": []
   },
   "outputs": [],
   "source": [
    "import pandas as pd\n",
    "df = pd.read_csv(r\"C:\\Users\\happy\\Documents\\ironhack\\Week16\\Lab1\\lab-chains-in-langchain\\data\\Data.csv\")"
   ]
  },
  {
   "cell_type": "code",
   "execution_count": 7,
   "id": "b7a09c35",
   "metadata": {
    "tags": []
   },
   "outputs": [
    {
     "data": {
      "application/vnd.microsoft.datawrangler.viewer.v0+json": {
       "columns": [
        {
         "name": "index",
         "rawType": "int64",
         "type": "integer"
        },
        {
         "name": "Product",
         "rawType": "object",
         "type": "string"
        },
        {
         "name": "Review",
         "rawType": "object",
         "type": "string"
        }
       ],
       "ref": "b19baa24-ea8f-4e5d-a861-706f422694fc",
       "rows": [
        [
         "0",
         "Queen Size Sheet Set",
         "I ordered a king size set. My only criticism would be that I wish seller would offer the king size set with 4 pillowcases. I separately ordered a two pack of pillowcases so I could have a total of four. When I saw the two packages, it looked like the color did not exactly match. Customer service was excellent about sending me two more pillowcases so I would have four that matched. Excellent! For the cost of these sheets, I am satisfied with the characteristics and coolness of the sheets."
        ],
        [
         "1",
         "Waterproof Phone Pouch",
         "I loved the waterproof sac, although the opening was made of a hard plastic. I don’t know if that would break easily. But I couldn’t turn my phone on, once it was in the pouch."
        ],
        [
         "2",
         "Luxury Air Mattress",
         "This mattress had a small hole in the top of it (took forever to find where it was), and the patches that they provide did not work, maybe because it's the top of the mattress where it's kind of like fabric and a patch won't stick. Maybe I got unlucky with a defective mattress, but where's quality assurance for this company? That flat out should not happen. Emphasis on flat. Cause that's what the mattress was. Seriously horrible experience, ruined my friend's stay with me. Then they make you ship it back instead of just providing a refund, which is also super annoying to pack up an air mattress and take it to the UPS store. This company is the worst, and this mattress is the worst."
        ],
        [
         "3",
         "Pillows Insert",
         "This is the best throw pillow fillers on Amazon. I’ve tried several others, and they’re all cheap and flat no matter how much fluffing you do. Once you toss these in the dryer after you remove them from the vacuum sealed shipping material, they fluff up great"
        ],
        [
         "4",
         "Milk Frother Handheld\r\n",
         " I loved this product. But they only seem to last a few months. The company was great replacing the first one (the frother falls out of the handle and can't be fixed). The after 4 months my second one did the same. I only use the frother for coffee once a day. It's not overuse or abuse. I'm very disappointed and will look for another. As I understand they will only replace once. Anyway, if you have one good luck."
        ]
       ],
       "shape": {
        "columns": 2,
        "rows": 5
       }
      },
      "text/html": [
       "<div>\n",
       "<style scoped>\n",
       "    .dataframe tbody tr th:only-of-type {\n",
       "        vertical-align: middle;\n",
       "    }\n",
       "\n",
       "    .dataframe tbody tr th {\n",
       "        vertical-align: top;\n",
       "    }\n",
       "\n",
       "    .dataframe thead th {\n",
       "        text-align: right;\n",
       "    }\n",
       "</style>\n",
       "<table border=\"1\" class=\"dataframe\">\n",
       "  <thead>\n",
       "    <tr style=\"text-align: right;\">\n",
       "      <th></th>\n",
       "      <th>Product</th>\n",
       "      <th>Review</th>\n",
       "    </tr>\n",
       "  </thead>\n",
       "  <tbody>\n",
       "    <tr>\n",
       "      <th>0</th>\n",
       "      <td>Queen Size Sheet Set</td>\n",
       "      <td>I ordered a king size set. My only criticism w...</td>\n",
       "    </tr>\n",
       "    <tr>\n",
       "      <th>1</th>\n",
       "      <td>Waterproof Phone Pouch</td>\n",
       "      <td>I loved the waterproof sac, although the openi...</td>\n",
       "    </tr>\n",
       "    <tr>\n",
       "      <th>2</th>\n",
       "      <td>Luxury Air Mattress</td>\n",
       "      <td>This mattress had a small hole in the top of i...</td>\n",
       "    </tr>\n",
       "    <tr>\n",
       "      <th>3</th>\n",
       "      <td>Pillows Insert</td>\n",
       "      <td>This is the best throw pillow fillers on Amazo...</td>\n",
       "    </tr>\n",
       "    <tr>\n",
       "      <th>4</th>\n",
       "      <td>Milk Frother Handheld\\r\\n</td>\n",
       "      <td>I loved this product. But they only seem to l...</td>\n",
       "    </tr>\n",
       "  </tbody>\n",
       "</table>\n",
       "</div>"
      ],
      "text/plain": [
       "                     Product  \\\n",
       "0       Queen Size Sheet Set   \n",
       "1     Waterproof Phone Pouch   \n",
       "2        Luxury Air Mattress   \n",
       "3             Pillows Insert   \n",
       "4  Milk Frother Handheld\\r\\n   \n",
       "\n",
       "                                              Review  \n",
       "0  I ordered a king size set. My only criticism w...  \n",
       "1  I loved the waterproof sac, although the openi...  \n",
       "2  This mattress had a small hole in the top of i...  \n",
       "3  This is the best throw pillow fillers on Amazo...  \n",
       "4   I loved this product. But they only seem to l...  "
      ]
     },
     "execution_count": 7,
     "metadata": {},
     "output_type": "execute_result"
    }
   ],
   "source": [
    "df.head()"
   ]
  },
  {
   "cell_type": "code",
   "execution_count": 11,
   "id": "48f77558",
   "metadata": {},
   "outputs": [
    {
     "data": {
      "text/plain": [
       "(7, 2)"
      ]
     },
     "execution_count": 11,
     "metadata": {},
     "output_type": "execute_result"
    }
   ],
   "source": [
    "df.shape"
   ]
  },
  {
   "cell_type": "markdown",
   "id": "b940ce7c",
   "metadata": {},
   "source": [
    "## LLMChain"
   ]
  },
  {
   "cell_type": "code",
   "execution_count": 8,
   "id": "427e1119",
   "metadata": {},
   "outputs": [
    {
     "name": "stdout",
     "output_type": "stream",
     "text": [
      "Requirement already satisfied: langchain_community in c:\\users\\happy\\anaconda3_32\\lib\\site-packages (0.3.27)\n",
      "Requirement already satisfied: langchain-core<1.0.0,>=0.3.66 in c:\\users\\happy\\anaconda3_32\\lib\\site-packages (from langchain_community) (0.3.68)\n",
      "Requirement already satisfied: langchain<1.0.0,>=0.3.26 in c:\\users\\happy\\anaconda3_32\\lib\\site-packages (from langchain_community) (0.3.26)\n",
      "Requirement already satisfied: SQLAlchemy<3,>=1.4 in c:\\users\\happy\\anaconda3_32\\lib\\site-packages (from langchain_community) (2.0.34)\n",
      "Requirement already satisfied: requests<3,>=2 in c:\\users\\happy\\anaconda3_32\\lib\\site-packages (from langchain_community) (2.32.3)\n",
      "Requirement already satisfied: PyYAML>=5.3 in c:\\users\\happy\\anaconda3_32\\lib\\site-packages (from langchain_community) (6.0.1)\n",
      "Requirement already satisfied: aiohttp<4.0.0,>=3.8.3 in c:\\users\\happy\\anaconda3_32\\lib\\site-packages (from langchain_community) (3.10.5)\n",
      "Requirement already satisfied: tenacity!=8.4.0,<10,>=8.1.0 in c:\\users\\happy\\anaconda3_32\\lib\\site-packages (from langchain_community) (8.2.3)\n",
      "Requirement already satisfied: dataclasses-json<0.7,>=0.5.7 in c:\\users\\happy\\anaconda3_32\\lib\\site-packages (from langchain_community) (0.6.7)\n",
      "Requirement already satisfied: pydantic-settings<3.0.0,>=2.4.0 in c:\\users\\happy\\anaconda3_32\\lib\\site-packages (from langchain_community) (2.6.1)\n",
      "Requirement already satisfied: langsmith>=0.1.125 in c:\\users\\happy\\anaconda3_32\\lib\\site-packages (from langchain_community) (0.4.4)\n",
      "Requirement already satisfied: httpx-sse<1.0.0,>=0.4.0 in c:\\users\\happy\\anaconda3_32\\lib\\site-packages (from langchain_community) (0.4.0)\n",
      "Requirement already satisfied: numpy>=1.26.2 in c:\\users\\happy\\anaconda3_32\\lib\\site-packages (from langchain_community) (1.26.4)\n",
      "Requirement already satisfied: aiohappyeyeballs>=2.3.0 in c:\\users\\happy\\anaconda3_32\\lib\\site-packages (from aiohttp<4.0.0,>=3.8.3->langchain_community) (2.4.0)\n",
      "Requirement already satisfied: aiosignal>=1.1.2 in c:\\users\\happy\\anaconda3_32\\lib\\site-packages (from aiohttp<4.0.0,>=3.8.3->langchain_community) (1.2.0)\n",
      "Requirement already satisfied: attrs>=17.3.0 in c:\\users\\happy\\anaconda3_32\\lib\\site-packages (from aiohttp<4.0.0,>=3.8.3->langchain_community) (23.1.0)\n",
      "Requirement already satisfied: frozenlist>=1.1.1 in c:\\users\\happy\\anaconda3_32\\lib\\site-packages (from aiohttp<4.0.0,>=3.8.3->langchain_community) (1.4.0)\n",
      "Requirement already satisfied: multidict<7.0,>=4.5 in c:\\users\\happy\\anaconda3_32\\lib\\site-packages (from aiohttp<4.0.0,>=3.8.3->langchain_community) (6.0.4)\n",
      "Requirement already satisfied: yarl<2.0,>=1.0 in c:\\users\\happy\\anaconda3_32\\lib\\site-packages (from aiohttp<4.0.0,>=3.8.3->langchain_community) (1.11.0)\n",
      "Requirement already satisfied: marshmallow<4.0.0,>=3.18.0 in c:\\users\\happy\\anaconda3_32\\lib\\site-packages (from dataclasses-json<0.7,>=0.5.7->langchain_community) (3.26.1)\n",
      "Requirement already satisfied: typing-inspect<1,>=0.4.0 in c:\\users\\happy\\anaconda3_32\\lib\\site-packages (from dataclasses-json<0.7,>=0.5.7->langchain_community) (0.9.0)\n",
      "Requirement already satisfied: langchain-text-splitters<1.0.0,>=0.3.8 in c:\\users\\happy\\anaconda3_32\\lib\\site-packages (from langchain<1.0.0,>=0.3.26->langchain_community) (0.3.8)\n",
      "Requirement already satisfied: pydantic<3.0.0,>=2.7.4 in c:\\users\\happy\\anaconda3_32\\lib\\site-packages (from langchain<1.0.0,>=0.3.26->langchain_community) (2.8.2)\n",
      "Requirement already satisfied: jsonpatch<2.0,>=1.33 in c:\\users\\happy\\anaconda3_32\\lib\\site-packages (from langchain-core<1.0.0,>=0.3.66->langchain_community) (1.33)\n",
      "Requirement already satisfied: packaging<25,>=23.2 in c:\\users\\happy\\anaconda3_32\\lib\\site-packages (from langchain-core<1.0.0,>=0.3.66->langchain_community) (24.1)\n",
      "Requirement already satisfied: typing-extensions>=4.7 in c:\\users\\happy\\anaconda3_32\\lib\\site-packages (from langchain-core<1.0.0,>=0.3.66->langchain_community) (4.11.0)\n",
      "Requirement already satisfied: httpx<1,>=0.23.0 in c:\\users\\happy\\anaconda3_32\\lib\\site-packages (from langsmith>=0.1.125->langchain_community) (0.27.0)\n",
      "Requirement already satisfied: orjson<4.0.0,>=3.9.14 in c:\\users\\happy\\anaconda3_32\\lib\\site-packages (from langsmith>=0.1.125->langchain_community) (3.10.18)\n",
      "Requirement already satisfied: requests-toolbelt<2.0.0,>=1.0.0 in c:\\users\\happy\\anaconda3_32\\lib\\site-packages (from langsmith>=0.1.125->langchain_community) (1.0.0)\n",
      "Requirement already satisfied: zstandard<0.24.0,>=0.23.0 in c:\\users\\happy\\anaconda3_32\\lib\\site-packages (from langsmith>=0.1.125->langchain_community) (0.23.0)\n",
      "Requirement already satisfied: python-dotenv>=0.21.0 in c:\\users\\happy\\anaconda3_32\\lib\\site-packages (from pydantic-settings<3.0.0,>=2.4.0->langchain_community) (0.21.0)\n",
      "Requirement already satisfied: charset-normalizer<4,>=2 in c:\\users\\happy\\anaconda3_32\\lib\\site-packages (from requests<3,>=2->langchain_community) (3.3.2)\n",
      "Requirement already satisfied: idna<4,>=2.5 in c:\\users\\happy\\anaconda3_32\\lib\\site-packages (from requests<3,>=2->langchain_community) (3.7)\n",
      "Requirement already satisfied: urllib3<3,>=1.21.1 in c:\\users\\happy\\anaconda3_32\\lib\\site-packages (from requests<3,>=2->langchain_community) (2.2.3)\n",
      "Requirement already satisfied: certifi>=2017.4.17 in c:\\users\\happy\\anaconda3_32\\lib\\site-packages (from requests<3,>=2->langchain_community) (2025.1.31)\n",
      "Requirement already satisfied: greenlet!=0.4.17 in c:\\users\\happy\\anaconda3_32\\lib\\site-packages (from SQLAlchemy<3,>=1.4->langchain_community) (3.0.1)\n",
      "Requirement already satisfied: anyio in c:\\users\\happy\\anaconda3_32\\lib\\site-packages (from httpx<1,>=0.23.0->langsmith>=0.1.125->langchain_community) (4.2.0)\n",
      "Requirement already satisfied: httpcore==1.* in c:\\users\\happy\\anaconda3_32\\lib\\site-packages (from httpx<1,>=0.23.0->langsmith>=0.1.125->langchain_community) (1.0.2)\n",
      "Requirement already satisfied: sniffio in c:\\users\\happy\\anaconda3_32\\lib\\site-packages (from httpx<1,>=0.23.0->langsmith>=0.1.125->langchain_community) (1.3.0)\n",
      "Requirement already satisfied: h11<0.15,>=0.13 in c:\\users\\happy\\anaconda3_32\\lib\\site-packages (from httpcore==1.*->httpx<1,>=0.23.0->langsmith>=0.1.125->langchain_community) (0.14.0)\n",
      "Requirement already satisfied: jsonpointer>=1.9 in c:\\users\\happy\\anaconda3_32\\lib\\site-packages (from jsonpatch<2.0,>=1.33->langchain-core<1.0.0,>=0.3.66->langchain_community) (2.1)\n",
      "Requirement already satisfied: annotated-types>=0.4.0 in c:\\users\\happy\\anaconda3_32\\lib\\site-packages (from pydantic<3.0.0,>=2.7.4->langchain<1.0.0,>=0.3.26->langchain_community) (0.6.0)\n",
      "Requirement already satisfied: pydantic-core==2.20.1 in c:\\users\\happy\\anaconda3_32\\lib\\site-packages (from pydantic<3.0.0,>=2.7.4->langchain<1.0.0,>=0.3.26->langchain_community) (2.20.1)\n",
      "Requirement already satisfied: mypy-extensions>=0.3.0 in c:\\users\\happy\\anaconda3_32\\lib\\site-packages (from typing-inspect<1,>=0.4.0->dataclasses-json<0.7,>=0.5.7->langchain_community) (1.0.0)\n"
     ]
    }
   ],
   "source": [
    "!pip install langchain_community"
   ]
  },
  {
   "cell_type": "code",
   "execution_count": 9,
   "id": "e92dff22",
   "metadata": {
    "tags": []
   },
   "outputs": [],
   "source": [
    "from langchain_openai import ChatOpenAI\n",
    "from langchain.prompts import ChatPromptTemplate\n",
    "from langchain.chains import LLMChain"
   ]
  },
  {
   "cell_type": "code",
   "execution_count": 10,
   "id": "943237a7",
   "metadata": {},
   "outputs": [],
   "source": [
    "#Replace None by your own value and justify\n",
    "llm = ChatOpenAI(temperature=0.7)\n",
    "#At around 0.7, the model will have a good balance between creativity and coherence based on my previous labs and projects."
   ]
  },
  {
   "cell_type": "code",
   "execution_count": 16,
   "id": "cdcdb42d",
   "metadata": {},
   "outputs": [],
   "source": [
    "prompt = ChatPromptTemplate.from_template(\"What sets the {product}apart?\")\n"
   ]
  },
  {
   "cell_type": "code",
   "execution_count": 17,
   "id": "d7abc20b",
   "metadata": {},
   "outputs": [],
   "source": [
    "\n",
    "chain = LLMChain(llm=llm, prompt=prompt)"
   ]
  },
  {
   "cell_type": "code",
   "execution_count": 18,
   "id": "ad44d1fb",
   "metadata": {},
   "outputs": [
    {
     "name": "stderr",
     "output_type": "stream",
     "text": [
      "C:\\Users\\happy\\AppData\\Local\\Temp\\ipykernel_301812\\1892552926.py:2: LangChainDeprecationWarning: The method `Chain.run` was deprecated in langchain 0.1.0 and will be removed in 1.0. Use :meth:`~invoke` instead.\n",
      "  chain.run(product)\n"
     ]
    },
    {
     "data": {
      "text/plain": [
       "\"1. Premium materials: The Luxury Air Mattress is made with high-quality materials that are designed to provide maximum comfort and support. The mattress is constructed with a durable PVC material that is puncture-resistant and long-lasting.\\n\\n2. Innovative design: The Luxury Air Mattress features a unique design that sets it apart from traditional air mattresses. It is engineered with a built-in pump that allows for easy inflation and deflation, eliminating the need for an external pump.\\n\\n3. Customizable comfort: The mattress is designed with adjustable firmness levels, allowing users to customize their comfort level to their liking. This feature ensures that each individual can enjoy a personalized sleeping experience.\\n\\n4. Portability: Despite its luxurious features, the Luxury Air Mattress is lightweight and easy to transport. It can be quickly inflated and deflated, making it ideal for camping trips, overnight guests, or temporary sleeping arrangements.\\n\\n5. Warranty: The Luxury Air Mattress comes with a manufacturer's warranty, providing customers with peace of mind and assurance of the product's quality and durability. This warranty sets it apart from other air mattresses on the market.\""
      ]
     },
     "execution_count": 18,
     "metadata": {},
     "output_type": "execute_result"
    }
   ],
   "source": [
    "product = \"Luxury Air Mattress\"\n",
    "chain.run(product)"
   ]
  },
  {
   "cell_type": "code",
   "execution_count": 19,
   "id": "c8d4225a",
   "metadata": {},
   "outputs": [],
   "source": [
    "chain = LLMChain(prompt=prompt, llm=llm)"
   ]
  },
  {
   "cell_type": "code",
   "execution_count": 20,
   "id": "8746c0ad",
   "metadata": {},
   "outputs": [
    {
     "data": {
      "text/plain": [
       "'1. High-quality materials: The Luxury Air Mattress is made from durable, puncture-resistant materials that are designed to last for years.\\n\\n2. Comfort and support: This air mattress is designed with comfort and support in mind, featuring a plush, flocked top that provides a soft sleeping surface and a supportive coil construction for added stability.\\n\\n3. Built-in pump: The Luxury Air Mattress comes with a built-in pump that makes inflating and deflating the mattress quick and easy. This eliminates the need for a separate pump and saves time and hassle.\\n\\n4. Adjustable firmness: This air mattress allows you to customize the firmness level to your liking, so you can sleep comfortably no matter your preference.\\n\\n5. Portability: The Luxury Air Mattress is lightweight and compact when deflated, making it easy to transport and store when not in use. This makes it ideal for camping trips, overnight guests, or as a temporary bedding solution.'"
      ]
     },
     "execution_count": 20,
     "metadata": {},
     "output_type": "execute_result"
    }
   ],
   "source": [
    "product = \"Luxury Air Mattress\"\n",
    "chain.run(product)"
   ]
  },
  {
   "cell_type": "markdown",
   "id": "69b03469",
   "metadata": {},
   "source": [
    "## SimpleSequentialChain"
   ]
  },
  {
   "cell_type": "code",
   "execution_count": 22,
   "id": "febee243",
   "metadata": {},
   "outputs": [],
   "source": [
    "from langchain.chains import SimpleSequentialChain"
   ]
  },
  {
   "cell_type": "code",
   "execution_count": 23,
   "id": "2f31aa8a",
   "metadata": {},
   "outputs": [],
   "source": [
    "llm = ChatOpenAI(temperature=0.9)\n",
    "\n",
    "# prompt template 1\n",
    "first_prompt = ChatPromptTemplate.from_template(\n",
    "    #Repeat the initial query or create a new query that would feed into the second prompt\n",
    "    \"What sets the {product} apart?\"\n",
    ")\n",
    "\n",
    "# Chain 1\n",
    "chain_one = LLMChain(llm=llm, prompt=first_prompt)"
   ]
  },
  {
   "cell_type": "code",
   "execution_count": 24,
   "id": "3f5d5b76",
   "metadata": {},
   "outputs": [],
   "source": [
    "\n",
    "# prompt template 2\n",
    "second_prompt = ChatPromptTemplate.from_template(\n",
    "    #Write the second prompt query that takes an input variable whose input will come from the previous prompt\"\n",
    "    \"How do the key features of the {product} gauge based on the Review?\"\n",
    ")\n",
    "# chain 2\n",
    "chain_two = LLMChain(llm=llm, prompt=second_prompt)"
   ]
  },
  {
   "cell_type": "code",
   "execution_count": 25,
   "id": "6c1eb2c4",
   "metadata": {},
   "outputs": [],
   "source": [
    "overall_simple_chain = SimpleSequentialChain(chains=[chain_one, chain_two],\n",
    "                                             verbose=True\n",
    "                                            )"
   ]
  },
  {
   "cell_type": "code",
   "execution_count": 27,
   "id": "78458efe",
   "metadata": {},
   "outputs": [
    {
     "name": "stdout",
     "output_type": "stream",
     "text": [
      "\n",
      "\n",
      "\u001b[1m> Entering new SimpleSequentialChain chain...\u001b[0m\n",
      "\u001b[36;1m\u001b[1;3m1. Premium materials: Luxury air mattresses are typically made with high-quality materials such as durable PVC or vinyl for the air chambers and top layer, as well as strong and supportive materials for the top surface.\n",
      "\n",
      "2. Comfort and support: Luxury air mattresses are designed to provide superior comfort and support, with features such as multiple air chambers, adjustable firmness settings, and added layers of cushioning for a more plush feel.\n",
      "\n",
      "3. Durability: Luxury air mattresses are built to last, with reinforced seams, heavy-duty materials, and durable construction that can withstand long-term use without losing air or developing leaks.\n",
      "\n",
      "4. Advanced features: Luxury air mattresses often come with advanced features such as built-in pumps for easy inflation and deflation, integrated pillow tops for added comfort, and remote controls for adjusting firmness levels.\n",
      "\n",
      "5. Design and aesthetics: Luxury air mattresses are designed with style in mind, featuring sleek and modern designs, attractive colors and patterns, and a premium look and feel that sets them apart from standard air mattresses. \n",
      "\n",
      "Overall, the Luxury Air Mattress offers superior comfort, durability, and advanced features that make it stand out from other air mattress options on the market.\u001b[0m\n",
      "\u001b[33;1m\u001b[1;3mBased on the key features mentioned, the Luxury Air Mattress seems to be a high-quality and premium option for those looking for a comfortable and durable air mattress. The use of premium materials, multiple air chambers for support, and advanced features such as built-in pumps and adjustable firmness settings suggest that this mattress provides a luxurious sleeping experience. The focus on design and aesthetics also indicates that the Luxury Air Mattress is not only functional but also visually appealing. Overall, based on the features highlighted, it seems that the Luxury Air Mattress would be a good investment for those seeking a top-of-the-line air mattress.\u001b[0m\n",
      "\n",
      "\u001b[1m> Finished chain.\u001b[0m\n"
     ]
    },
    {
     "data": {
      "text/plain": [
       "'Based on the key features mentioned, the Luxury Air Mattress seems to be a high-quality and premium option for those looking for a comfortable and durable air mattress. The use of premium materials, multiple air chambers for support, and advanced features such as built-in pumps and adjustable firmness settings suggest that this mattress provides a luxurious sleeping experience. The focus on design and aesthetics also indicates that the Luxury Air Mattress is not only functional but also visually appealing. Overall, based on the features highlighted, it seems that the Luxury Air Mattress would be a good investment for those seeking a top-of-the-line air mattress.'"
      ]
     },
     "execution_count": 27,
     "metadata": {},
     "output_type": "execute_result"
    }
   ],
   "source": [
    "overall_simple_chain.run(\"Luxury Air Mattress\")"
   ]
  },
  {
   "cell_type": "code",
   "execution_count": 28,
   "id": "2ad0ee3d",
   "metadata": {},
   "outputs": [
    {
     "name": "stdout",
     "output_type": "stream",
     "text": [
      "\n",
      "\n",
      "\u001b[1m> Entering new SimpleSequentialChain chain...\u001b[0m\n",
      "\u001b[36;1m\u001b[1;3mThere are several factors that set a blender apart from other kitchen appliances:\n",
      "\n",
      "1. Versatility: Blenders can be used for a wide range of tasks, including making smoothies, soups, sauces, and even grinding nuts or grains.\n",
      "\n",
      "2. Power: Blenders are designed to be powerful enough to crush ice, blend frozen fruits, and puree vegetables, making them ideal for a variety of recipes.\n",
      "\n",
      "3. Speed: Blenders are equipped with high-speed blades that can quickly and efficiently blend ingredients together, saving time in the kitchen.\n",
      "\n",
      "4. Ease of use: Blenders are generally easy to operate, with simple controls and settings that make them user-friendly for both experienced cooks and beginners.\n",
      "\n",
      "5. Durability: A good quality blender is built to last, with sturdy construction and strong materials that can withstand regular use.\n",
      "\n",
      "6. Size and capacity: Blenders come in a range of sizes and capacities, making it easy to find one that fits your needs and kitchen space.\n",
      "\n",
      "Overall, the combination of versatility, power, speed, ease of use, durability, and size make blenders a valuable and essential kitchen appliance for many households.\u001b[0m\n",
      "\u001b[33;1m\u001b[1;3mBased on the review, the key features of the blender are its versatility, power, speed, ease of use, durability, and size and capacity. These features make the blender a valuable and essential kitchen appliance for many households. The reviewer likely found the blender easy to use, efficient, and durable, making it a good investment for their kitchen.\u001b[0m\n",
      "\n",
      "\u001b[1m> Finished chain.\u001b[0m\n"
     ]
    },
    {
     "data": {
      "text/plain": [
       "'Based on the review, the key features of the blender are its versatility, power, speed, ease of use, durability, and size and capacity. These features make the blender a valuable and essential kitchen appliance for many households. The reviewer likely found the blender easy to use, efficient, and durable, making it a good investment for their kitchen.'"
      ]
     },
     "execution_count": 28,
     "metadata": {},
     "output_type": "execute_result"
    }
   ],
   "source": [
    "overall_simple_chain.run(\"blender\")"
   ]
  },
  {
   "cell_type": "code",
   "execution_count": 29,
   "id": "877584f3",
   "metadata": {},
   "outputs": [
    {
     "name": "stdout",
     "output_type": "stream",
     "text": [
      "\n",
      "\n",
      "\u001b[1m> Entering new SimpleSequentialChain chain...\u001b[0m\n",
      "\u001b[36;1m\u001b[1;3mThe comb is a unique tool for grooming the hair because of its design and functionality. It typically has evenly spaced teeth that are specifically designed to detangle and style hair. Additionally, combs come in a variety of sizes and materials, such as plastic, metal, or wood, making them versatile for different hair types and styling needs. Combs also have a long handle, making it easy to hold and manipulate while styling the hair. Overall, the comb stands out as an essential and practical tool for hair grooming and styling.\u001b[0m\n",
      "\u001b[33;1m\u001b[1;3mBased on the review, the key features of a comb include its evenly spaced teeth for detangling and styling hair, versatility in terms of sizes and materials, and a long handle for easy manipulation while styling. The review also emphasizes the comb's unique design and functionality, making it an essential tool for hair grooming. Overall, the review highlights the comb as a practical and useful tool for hair styling and maintenance.\u001b[0m\n",
      "\n",
      "\u001b[1m> Finished chain.\u001b[0m\n"
     ]
    },
    {
     "data": {
      "text/plain": [
       "\"Based on the review, the key features of a comb include its evenly spaced teeth for detangling and styling hair, versatility in terms of sizes and materials, and a long handle for easy manipulation while styling. The review also emphasizes the comb's unique design and functionality, making it an essential tool for hair grooming. Overall, the review highlights the comb as a practical and useful tool for hair styling and maintenance.\""
      ]
     },
     "execution_count": 29,
     "metadata": {},
     "output_type": "execute_result"
    }
   ],
   "source": [
    "overall_simple_chain.run(\"comb\")"
   ]
  },
  {
   "cell_type": "markdown",
   "id": "0dd59bda-9d02-44e7-b3d6-2bec61b99d8f",
   "metadata": {},
   "source": [
    "**Repeat the above twice for different products**"
   ]
  },
  {
   "cell_type": "markdown",
   "id": "7b5ce18c",
   "metadata": {},
   "source": [
    "## SequentialChain"
   ]
  },
  {
   "cell_type": "markdown",
   "id": "6f92d1da",
   "metadata": {},
   "source": [
    "from langchain.chains import SequentialChain\n",
    "\n",
    "chain = SequentialChain(\n",
    "    chains=[\n",
    "        keyword_chain,                # expects {\"text\"} → returns {\"keywords\"}\n",
    "        research_chain,               # expects {\"keywords\"} → returns {\"raw_insights\"}\n",
    "        summarize_chain               # expects {\"text\",\"raw_insights\"} → returns {\"summary\"}\n",
    "    ],\n",
    "    input_variables=[\"text\"],\n",
    "    output_variables=[\"keywords\",\"summary\"],\n",
    "    verbose=True\n",
    ")\n",
    "out = chain({\"text\": long_document})\n",
    "# out == {\"keywords\": [...], \"summary\": \"...\"}"
   ]
  },
  {
   "cell_type": "code",
   "execution_count": 31,
   "id": "4c129ef6",
   "metadata": {},
   "outputs": [],
   "source": [
    "from langchain.chains import SequentialChain"
   ]
  },
  {
   "cell_type": "code",
   "execution_count": 32,
   "id": "016187ac",
   "metadata": {},
   "outputs": [],
   "source": [
    "llm = ChatOpenAI(temperature=0.9)\n",
    "\n",
    "\n",
    "first_prompt = ChatPromptTemplate.from_template(\n",
    "  #This prompt should translate a review\n",
    "  \"Translate the review made on the {review} to Tagalog.\"\n",
    ")\n",
    "\n",
    "chain_one = LLMChain(llm=llm, prompt=first_prompt, \n",
    "                     output_key=\"Marites\"  # give a name to this output\n",
    "                    )\n"
   ]
  },
  {
   "cell_type": "code",
   "execution_count": 33,
   "id": "0fb0730e",
   "metadata": {},
   "outputs": [],
   "source": [
    "second_prompt = ChatPromptTemplate.from_template(\n",
    "    # Write a prompt to summarize a review\n",
    "    \"Determine the product, main characteristics and topics in the {review} discussed in the review. Do a sentiment analysis of the {review} whether it is positive, negative or neutral. Summarize the review in a friendly and entertaining way for a user who lives in the tropical country.Translate in Tagalog.\"\n",
    ")\n",
    "\n",
    "chain_two = LLMChain(llm=llm, prompt=second_prompt, \n",
    "                     output_key=\"Asian\"  # give a name to this output\n",
    "                    )\n"
   ]
  },
  {
   "cell_type": "code",
   "execution_count": null,
   "id": "6accf92d",
   "metadata": {},
   "outputs": [],
   "source": [
    "# prompt template 3: translate to english or other language\n",
    "third_prompt = ChatPromptTemplate.from_template(\n",
    "        \"Determine the product, main characteristics and topics of the {review} discussed in the review. Do a sentiment analysis of the {review} whether it is positive, negative or neutral. Summarize the review in a friendly and entertaining way for a user who lives in nordic regions.Translate in Icelandic language.\"\n",
    "    \n",
    ")\n",
    "# chain 3: input= Review and output= language\n",
    "chain_three = LLMChain(llm=llm, prompt=third_prompt,\n",
    "                       output_key=\"Nordic\"                     )\n"
   ]
  },
  {
   "cell_type": "code",
   "execution_count": 36,
   "id": "c7a46121",
   "metadata": {},
   "outputs": [],
   "source": [
    "\n",
    "# prompt template 4: follow up message that take as inputs the two previous prompts' variables\n",
    "fourth_prompt = ChatPromptTemplate.from_template(\n",
    "        \"Based on the {Asian} of the {Nordic}, create a summary of how the product can be useful for someone living in extremely warm and extremely cold countries, 3 versions of the summary, one for each of the three countries: Philippines, Iceland and English.  \"\n",
    "\n",
    ")\n",
    "chain_four = LLMChain(llm=llm, prompt=fourth_prompt,\n",
    "                      output_key=\"Verdict\"\n",
    "                     )\n"
   ]
  },
  {
   "cell_type": "code",
   "execution_count": 38,
   "id": "89603117",
   "metadata": {},
   "outputs": [],
   "source": [
    "# overall_chain: input= Review \n",
    "# and output= English_Review,summary, followup_message\n",
    "overall_chain = SequentialChain(\n",
    "    chains=[chain_one, chain_two, chain_three, chain_four],\n",
    "    input_variables=[\"review\"],\n",
    "    output_variables=[\"Marites\",\"Asian\", \"Nordic\", \"Verdict\"],\n",
    "    verbose=True\n",
    ")"
   ]
  },
  {
   "cell_type": "code",
   "execution_count": 39,
   "id": "51b04f45",
   "metadata": {},
   "outputs": [
    {
     "name": "stderr",
     "output_type": "stream",
     "text": [
      "C:\\Users\\happy\\AppData\\Local\\Temp\\ipykernel_301812\\1992003631.py:2: LangChainDeprecationWarning: The method `Chain.__call__` was deprecated in langchain 0.1.0 and will be removed in 1.0. Use :meth:`~invoke` instead.\n",
      "  overall_chain(review)\n"
     ]
    },
    {
     "name": "stdout",
     "output_type": "stream",
     "text": [
      "\n",
      "\n",
      "\u001b[1m> Entering new SequentialChain chain...\u001b[0m\n",
      "\n",
      "\u001b[1m> Finished chain.\u001b[0m\n"
     ]
    },
    {
     "data": {
      "text/plain": [
       "{'review': \"Je trouve le goût médiocre. La mousse ne tient pas, c'est bizarre. J'achète les mêmes dans le commerce et le goût est bien meilleur...\\r\\nVieux lot ou contrefaçon !?\",\n",
       " 'Marites': 'Nakita ko ang lasang hindi maganda. Hindi tumatagal ang katas, nakakapagtaka. Bumibili ako ng parehong produkto sa tindahan at mas masarap ang lasa... Lumang batch o pekeng produkto!?',\n",
       " 'Asian': \"The review is negative as the user finds the taste of the product mediocre and the foam doesn't hold well. They suspect it might be an old batch or even a counterfeit. Overall, the user is disappointed with their purchase and prefers the taste of the same product bought from a store. \\n\\nIn Tagalog: Ang review ay negatibo sapagkat hindi nagustuhan ng user ang lasa ng produkto at hindi rin maayos ang foam. May duda sila na baka luma na ito o peke pa. Sa kabuuan, nadismaya ang user sa kanilang binili at mas gusto pa nila ang lasa ng kaparehong produkto na binili sa tindahan.\",\n",
       " 'Nordic': \"The review expresses disappointment in the product, noting that the taste is mediocre and the foam doesn't hold up well. The reviewer suspects that it may be an old batch or a counterfeit. The sentiment of the review is negative.\\n\\nSummary in Icelandic:\\nUmfjöllunin lætur í ljós vonbrigði með vöruna, þar sem bragðið er miðjumaukt og skummið sekkur hratt. Höfundurinn grunar að það geti verið gamall hópur eða samskeyti. Stemningin á umsögninni er neikvæð.\",\n",
       " 'Verdict': 'For someone living in the Philippines, where the weather is extremely warm, this product can provide a refreshing and cooling treat. The foam can help alleviate the heat and provide a unique and enjoyable experience.\\n\\nFor someone living in Iceland, where the weather is extremely cold, this product can offer a comforting and indulgent treat. The rich taste can be a satisfying and delicious treat during the harsh winter months.\\n\\nFor someone living in an English-speaking country, this product can be a fun and delicious treat for any time of year. The unique flavors and textures can provide a tasty experience for those looking for something different.'}"
      ]
     },
     "execution_count": 39,
     "metadata": {},
     "output_type": "execute_result"
    }
   ],
   "source": [
    "review = df.Review[5]\n",
    "overall_chain(review)"
   ]
  },
  {
   "cell_type": "markdown",
   "id": "3187cf07-458a-4226-bec7-3dec7ee47af2",
   "metadata": {},
   "source": [
    "**Repeat the above twice for different products or reviews**"
   ]
  },
  {
   "cell_type": "code",
   "execution_count": 40,
   "id": "e5c24093",
   "metadata": {},
   "outputs": [
    {
     "name": "stdout",
     "output_type": "stream",
     "text": [
      "\n",
      "\n",
      "\u001b[1m> Entering new SequentialChain chain...\u001b[0m\n",
      "\n",
      "\u001b[1m> Finished chain.\u001b[0m\n"
     ]
    },
    {
     "data": {
      "text/plain": [
       "{'review': \"\\xa0I loved this product. But they only seem to last a few months. The company was great replacing the first one (the frother falls out of the handle and can't be fixed). The after 4 months my second one did the same. I only use the frother for coffee once a day. It's not overuse or abuse. I'm very disappointed and will look for another. As I understand they will only replace once. Anyway, if you have one good luck.\",\n",
       " 'Marites': 'Napakahusay ang produktong ito. Ngunit tila ito ay tumatagal lamang ng ilang buwan. Ang kumpanya ay mahusay sa pagpapalit ng unang unit (ang frother ay nalalaglag sa handle at hindi maayos). Pagkatapos ng apat na buwan, ginawa rin ito ng pangalawa ko. Ginagamit ko lamang ang frother para sa kape isang beses sa isang araw. Hindi ito labis na paggamit o pang-aabuso. Labis akong nadismaya at maghahanap na ng iba. Ayon sa aking pagkaunawa, maaari lamang nilang palitan ng isa. Anuman, kung mayroon kang isa, magdasal ka ng suwerte.',\n",
       " 'Asian': 'Sentiment analysis: Negative\\n\\nSummary: The reviewer loved the product but was disappointed that it only lasted a few months. The company replaced the first one when the frother fell out of the handle, but the second one did the same after 4 months. The reviewer only used it once a day for coffee and feels let down. They will now look for another product as they understand the company will only replace it once. Despite this, they wish good luck to anyone who decides to purchase it.\\n\\nTranslation in Tagalog: Mahal na mahal ng reviewer ang produktong ito ngunit nalulungkot sila na tanging ilang buwan lamang ito tumagal. Pinapalitan ng kumpanya ang unang unit nang lumabas ang frother sa handle, ngunit ang pangalawang unit ay ganun din matapos ang 4 na buwan. Ginagamit lamang ito ng reviewer isang beses sa isang araw para sa kape at nadismaya sila. Hanap sila ng ibang produkto dahil nauunawaan nila na tanging isang beses lang ito mapapalitan. Gayunpaman, nagpapahayag sila ng magandang kapalaran sa sinumang magpasyang bumili nito.',\n",
       " 'Nordic': 'Sentiment analysis: Negative\\n\\nSummary: The reviewer initially loved the product, but was disappointed when it only lasted a few months before the frother fell out of the handle. The company replaced it once, but the replacement also had the same issue after 4 months. The reviewer is now looking for a different product and wishes good luck to anyone who decides to try it out.\\n\\nIcelandic translation: Umsögnin segir að notandinn hafi framan af elskað vara, en varð vonbrigði þegar hún hélt aðeins í nokkrir mánuðir áður en hröðrin féll út úr handfanginu. Fyrirtækið skipti því út einu sinni, en nýja vörunni varð líka fyrir sama vandamáli eftir 4 mánuði. Notandinn er nú að leita að öðru vöruna og óskar öllum góðrar heillar sem reyna hana út.',\n",
       " 'Verdict': 'Philippines: This product can be useful for someone living in the Philippines, especially during the hot and humid weather. The frother can help create refreshing iced coffees or frappes to cool down during the warm days.\\n\\nIceland: For someone living in Iceland, where the weather can be extremely cold, this product can be useful to make hot and comforting drinks like lattes or cappuccinos. The frother can help create a cozy atmosphere during the long, dark winter days.\\n\\nEnglish: This product can be versatile for individuals living in both extremely warm and extremely cold countries. In warm climates, the frother can help create refreshing iced coffee beverages, while in cold climates, it can be used to make hot and comforting drinks to stay warm during chilly weather.'}"
      ]
     },
     "execution_count": 40,
     "metadata": {},
     "output_type": "execute_result"
    }
   ],
   "source": [
    "review = df.Review[4]\n",
    "overall_chain(review)"
   ]
  },
  {
   "cell_type": "code",
   "execution_count": 41,
   "id": "82782f96",
   "metadata": {},
   "outputs": [
    {
     "name": "stdout",
     "output_type": "stream",
     "text": [
      "\n",
      "\n",
      "\u001b[1m> Entering new SequentialChain chain...\u001b[0m\n",
      "\n",
      "\u001b[1m> Finished chain.\u001b[0m\n"
     ]
    },
    {
     "data": {
      "text/plain": [
       "{'review': 'I loved the waterproof sac, although the opening was made of a hard plastic. I don’t know if that would break easily. But I couldn’t turn my phone on, once it was in the pouch.',\n",
       " 'Marites': 'Iniibig ko ang waterproof sac, bagaman ang opening ay gawa sa matigas na plastik. Hindi ko alam kung madaling masira ito. Ngunit hindi ko magamit ang aking telepono habang nasa pouch ito.',\n",
       " 'Asian': \"Product: Waterproof sac/pouch\\n\\nMain characteristics: Waterproof, made of hard plastic, prevents phone from turning on inside pouch\\n\\nTopics discussed: Durability, functionality\\n\\nSentiment analysis: Neutral\\n\\nSummary: The reviewer loved the waterproof sac but had concerns about the hard plastic opening potentially breaking easily. They also noted that they couldn't turn their phone on once it was inside the pouch.\\n\\nTranslation in Tagalog: Ini-enjoy ko ang waterproof sac, kahit na ang opening ay gawa sa matigas na plastic. Hindi ko lang alam kung madaling masira ito. Pero hindi ko mai-on ang aking telepono kapag nasa loob ito ng pouch.\",\n",
       " 'Nordic': \"Product: Waterproof sac\\nMain characteristics: Waterproof, made of hard plastic, phone cannot be turned on while in pouch\\nTopics: Durability, functionality\\n\\nSentiment analysis: Neutral\\n\\nSummary: The reviewer loved the waterproof sac, although they were concerned about the durability of the hard plastic opening. They also mentioned that their phone couldn't be turned on while inside the pouch. Overall, they seemed satisfied with the product but had some reservations.\\n\\nTranslation in Icelandic: Ég elskaði vatnsheldu pokann, þó að opnunin væri úr hörðu plastmateríali. Ég veit ekki hvort það myndi brotna auðveldlega. En ég gat ekki kveikt á símann mínum, þegar hann var í poka.\",\n",
       " 'Verdict': \"Philippines: The waterproof sac is perfect for keeping your phone safe from water damage during the rainy season or trips to the beach. The hard plastic material ensures durability even in extreme heat.\\n\\nIceland: In Iceland, where the weather can be harsh and wet, the waterproof sac is a must-have for protecting your phone from water damage. The hard plastic construction will withstand the cold temperatures and keep your device safe.\\n\\nEnglish: Whether you're living in a hot country like the Philippines or a cold country like Iceland, the waterproof sac is essential for keeping your phone safe and dry. The durable hard plastic material ensures protection from water damage in extreme weather conditions.\"}"
      ]
     },
     "execution_count": 41,
     "metadata": {},
     "output_type": "execute_result"
    }
   ],
   "source": [
    "review = df.Review[1]\n",
    "overall_chain(review)"
   ]
  },
  {
   "cell_type": "markdown",
   "id": "3041ea4c",
   "metadata": {},
   "source": [
    "## Router Chain"
   ]
  },
  {
   "cell_type": "code",
   "execution_count": 43,
   "id": "ade83f4f",
   "metadata": {},
   "outputs": [],
   "source": [
    "physics_template = \"\"\"You are a very smart physics professor. \\\n",
    "You are great at answering questions about physics in a concise\\\n",
    "and easy to understand manner. \\\n",
    "When you don't know the answer to a question you admit\\\n",
    "that you don't know.\n",
    "\n",
    "Here is a question:\n",
    "{input}\"\"\"\n",
    "\n",
    "\n",
    "math_template = \"\"\"You are a very good mathematician. \\\n",
    "You are great at answering math questions. \\\n",
    "You are so good because you are able to break down \\\n",
    "hard problems into their component parts, \n",
    "answer the component parts, and then put them together\\\n",
    "to answer the broader question.\n",
    "\n",
    "Here is a question:\n",
    "{input}\"\"\"\n",
    "\n",
    "history_template = \"\"\"You are a very good historian. \\\n",
    "You have an excellent knowledge of and understanding of people,\\\n",
    "events and contexts from a range of historical periods. \\\n",
    "You have the ability to think, reflect, debate, discuss and \\\n",
    "evaluate the past. You have a respect for historical evidence\\\n",
    "and the ability to make use of it to support your explanations \\\n",
    "and judgements.\n",
    "\n",
    "Here is a question:\n",
    "{input}\"\"\"\n",
    "\n",
    "\n",
    "computerscience_template = \"\"\" You are a successful computer scientist.\\\n",
    "You have a passion for creativity, collaboration,\\\n",
    "forward-thinking, confidence, strong problem-solving capabilities,\\\n",
    "understanding of theories and algorithms, and excellent communication \\\n",
    "skills. You are great at answering coding questions. \\\n",
    "You are so good because you know how to solve a problem by \\\n",
    "describing the solution in imperative steps \\\n",
    "that a machine can easily interpret and you know how to \\\n",
    "choose a solution that has a good balance between \\\n",
    "time complexity and space complexity. \n",
    "\n",
    "Here is a question:\n",
    "{input}\"\"\"\n",
    "\n",
    "biology_template = \"\"\"You are an excellent biologist. \\\n",
    "You have a deep understanding of living organisms, \\\n",
    "from the molecular and cellular level to entire ecosystems. \\\n",
    "You are skilled at observing patterns in nature, analyzing biological data, \\\n",
    "and explaining complex processes like evolution, genetics, physiology, and ecology. \\\n",
    "You can clearly communicate how life functions and adapts, \\\n",
    "and you make connections between different biological concepts \\\n",
    "to answer challenging questions.\n",
    "\n",
    "Here is a question:\n",
    "{input}\"\"\""
   ]
  },
  {
   "cell_type": "code",
   "execution_count": 44,
   "id": "5f590e9f",
   "metadata": {},
   "outputs": [],
   "source": [
    "prompt_infos = [\n",
    "    {\n",
    "        \"name\": \"physics\", \n",
    "        \"description\": \"Good for answering questions about physics\", \n",
    "        \"prompt_template\": physics_template\n",
    "    },\n",
    "    {\n",
    "        \"name\": \"math\", \n",
    "        \"description\": \"Good for answering math questions\", \n",
    "        \"prompt_template\": math_template\n",
    "    },\n",
    "    {\n",
    "        \"name\": \"History\", \n",
    "        \"description\": \"Good for answering history questions\", \n",
    "        \"prompt_template\": history_template\n",
    "    },\n",
    "    {\n",
    "        \"name\": \"computer science\", \n",
    "        \"description\": \"Good for answering computer science questions\", \n",
    "        \"prompt_template\": computerscience_template\n",
    "    },\n",
    "    {\n",
    "        \"name\": \"biology\",\n",
    "        \"description\": \"Good for answering biology questions\",\n",
    "        \"prompt_template\": biology_template\n",
    "    }\n",
    "]"
   ]
  },
  {
   "cell_type": "code",
   "execution_count": 42,
   "id": "31b06fc8",
   "metadata": {},
   "outputs": [],
   "source": [
    "from langchain.chains.router import MultiPromptChain\n",
    "from langchain.chains.router.llm_router import LLMRouterChain,RouterOutputParser\n",
    "from langchain.prompts import PromptTemplate"
   ]
  },
  {
   "cell_type": "code",
   "execution_count": 45,
   "id": "f3f50bcc",
   "metadata": {},
   "outputs": [],
   "source": [
    "llm = ChatOpenAI(temperature=0)"
   ]
  },
  {
   "cell_type": "code",
   "execution_count": 46,
   "id": "8eefec24",
   "metadata": {},
   "outputs": [],
   "source": [
    "destination_chains = {}\n",
    "for p_info in prompt_infos:\n",
    "    name = p_info[\"name\"]\n",
    "    prompt_template = p_info[\"prompt_template\"]\n",
    "    prompt = ChatPromptTemplate.from_template(template=prompt_template)\n",
    "    chain = LLMChain(llm=llm, prompt=prompt)\n",
    "    destination_chains[name] = chain  \n",
    "    \n",
    "destinations = [f\"{p['name']}: {p['description']}\" for p in prompt_infos]\n",
    "destinations_str = \"\\n\".join(destinations)"
   ]
  },
  {
   "cell_type": "code",
   "execution_count": 47,
   "id": "ea8ce6cb",
   "metadata": {},
   "outputs": [
    {
     "data": {
      "text/plain": [
       "['physics: Good for answering questions about physics',\n",
       " 'math: Good for answering math questions',\n",
       " 'History: Good for answering history questions',\n",
       " 'computer science: Good for answering computer science questions',\n",
       " 'biology: Good for answering biology questions']"
      ]
     },
     "execution_count": 47,
     "metadata": {},
     "output_type": "execute_result"
    }
   ],
   "source": [
    "destinations"
   ]
  },
  {
   "cell_type": "code",
   "execution_count": 48,
   "id": "d38e8200",
   "metadata": {},
   "outputs": [
    {
     "data": {
      "text/plain": [
       "'physics: Good for answering questions about physics\\nmath: Good for answering math questions\\nHistory: Good for answering history questions\\ncomputer science: Good for answering computer science questions\\nbiology: Good for answering biology questions'"
      ]
     },
     "execution_count": 48,
     "metadata": {},
     "output_type": "execute_result"
    }
   ],
   "source": [
    "destinations_str"
   ]
  },
  {
   "cell_type": "code",
   "execution_count": 54,
   "id": "9f98018a",
   "metadata": {},
   "outputs": [],
   "source": [
    "default_prompt = ChatPromptTemplate.from_template(\"{input}\")\n",
    "default_chain = LLMChain(llm=llm, prompt=default_prompt)"
   ]
  },
  {
   "cell_type": "code",
   "execution_count": 57,
   "id": "11b2e2ba",
   "metadata": {},
   "outputs": [],
   "source": [
    "MULTI_PROMPT_ROUTER_TEMPLATE = \"\"\"Given a raw text input to a \\\n",
    "language model select the model prompt best suited for the input. \\\n",
    "You will be given the names of the available prompts and a \\\n",
    "description of what the prompt is best suited for. \\\n",
    "You may also revise the original input if you think that revising\\\n",
    "it will ultimately lead to a better response from the language model.\n",
    "\n",
    "<< FORMATTING >>\n",
    "Return a markdown code snippet with a JSON object formatted to look like:\n",
    "```json\n",
    "{{{{\n",
    "    \"destination\": string \\ name of the prompt to use or \"DEFAULT\"\n",
    "    \"next_inputs\": string \\ a potentially modified version of the original input\n",
    "}}}}\n",
    "```\n",
    "\n",
    "REMEMBER: \"destination\" MUST be one of the candidate prompt \\\n",
    "names specified below OR it can be \"DEFAULT\" if the input is not\\\n",
    "well suited for any of the candidate prompts.\n",
    "REMEMBER: \"next_inputs\" can just be the original input \\\n",
    "if you don't think any modifications are needed.\n",
    "\n",
    "<< CANDIDATE PROMPTS >>\n",
    "{destinations}\n",
    "\n",
    "<< INPUT >>\n",
    "{{input}}\n",
    "\n",
    "<< OUTPUT (remember to include the ```json)>>\"\"\""
   ]
  },
  {
   "cell_type": "code",
   "execution_count": 58,
   "id": "1387109d",
   "metadata": {},
   "outputs": [],
   "source": [
    "router_template = MULTI_PROMPT_ROUTER_TEMPLATE.format(\n",
    "    destinations=destinations_str\n",
    ")\n",
    "router_prompt = PromptTemplate(\n",
    "    template=router_template,\n",
    "    input_variables=[\"input\"],\n",
    "    output_parser=RouterOutputParser(),\n",
    ")\n",
    "\n",
    "router_chain = LLMRouterChain.from_llm(llm, router_prompt)"
   ]
  },
  {
   "cell_type": "code",
   "execution_count": 59,
   "id": "2fb7d560",
   "metadata": {},
   "outputs": [],
   "source": [
    "# Ensure default_chain is defined\n",
    "default_prompt = ChatPromptTemplate.from_template(\"{input}\")\n",
    "default_chain = LLMChain(llm=llm, prompt=default_prompt)\n",
    "\n",
    "chain = MultiPromptChain(router_chain=router_chain, \n",
    "                         destination_chains=destination_chains, \n",
    "                         default_chain=default_chain, verbose=True\n",
    "                        )"
   ]
  },
  {
   "cell_type": "code",
   "execution_count": 60,
   "id": "d86b2131",
   "metadata": {},
   "outputs": [
    {
     "name": "stdout",
     "output_type": "stream",
     "text": [
      "\n",
      "\n",
      "\u001b[1m> Entering new MultiPromptChain chain...\u001b[0m\n",
      "physics: {'input': 'What is black body radiation?'}\n",
      "\u001b[1m> Finished chain.\u001b[0m\n"
     ]
    },
    {
     "data": {
      "text/plain": [
       "\"Black body radiation refers to the electromagnetic radiation emitted by a perfect black body, which is an idealized physical body that absorbs all incident electromagnetic radiation. The radiation emitted by a black body depends only on its temperature and follows a specific distribution known as Planck's law. This radiation is characterized by a continuous spectrum of wavelengths and intensities, with the peak intensity shifting to shorter wavelengths as the temperature of the black body increases. Black body radiation plays a key role in understanding concepts such as thermal radiation and the quantization of energy in quantum mechanics.\""
      ]
     },
     "execution_count": 60,
     "metadata": {},
     "output_type": "execute_result"
    }
   ],
   "source": [
    "chain.run(\"What is black body radiation?\")"
   ]
  },
  {
   "cell_type": "code",
   "execution_count": 61,
   "id": "3b717379",
   "metadata": {},
   "outputs": [
    {
     "name": "stdout",
     "output_type": "stream",
     "text": [
      "\n",
      "\n",
      "\u001b[1m> Entering new MultiPromptChain chain...\u001b[0m\n",
      "math: {'input': 'what is 2 + 2'}\n",
      "\u001b[1m> Finished chain.\u001b[0m\n"
     ]
    },
    {
     "data": {
      "text/plain": [
       "'The answer to 2 + 2 is 4.'"
      ]
     },
     "execution_count": 61,
     "metadata": {},
     "output_type": "execute_result"
    }
   ],
   "source": [
    "chain.run(\"what is 2 + 2\")"
   ]
  },
  {
   "cell_type": "code",
   "execution_count": 62,
   "id": "29e5be01",
   "metadata": {},
   "outputs": [
    {
     "name": "stdout",
     "output_type": "stream",
     "text": [
      "\n",
      "\n",
      "\u001b[1m> Entering new MultiPromptChain chain...\u001b[0m\n",
      "biology: {'input': 'Why does every cell in our body contain DNA?'}\n",
      "\u001b[1m> Finished chain.\u001b[0m\n"
     ]
    },
    {
     "data": {
      "text/plain": [
       "'Every cell in our body contains DNA because DNA is the genetic material that carries the instructions for the development, functioning, and reproduction of all living organisms. DNA contains the information needed to build and maintain an organism, including the proteins that make up our cells and tissues. \\n\\nHaving DNA in every cell ensures that each cell has the necessary information to carry out its specific functions and to replicate itself accurately during cell division. This ensures that the genetic information is passed on to the next generation of cells. \\n\\nAdditionally, DNA is constantly being used by cells to carry out processes such as protein synthesis, cell division, and repair. Having DNA in every cell allows for the coordination of these processes and ensures that the organism functions properly as a whole. \\n\\nIn summary, every cell in our body contains DNA because it is essential for the proper functioning and development of all living organisms.'"
      ]
     },
     "execution_count": 62,
     "metadata": {},
     "output_type": "execute_result"
    }
   ],
   "source": [
    "chain.run(\"Why does every cell in our body contain DNA?\")"
   ]
  },
  {
   "cell_type": "code",
   "execution_count": 63,
   "id": "aa66fb87",
   "metadata": {},
   "outputs": [
    {
     "name": "stdout",
     "output_type": "stream",
     "text": [
      "\n",
      "\n",
      "\u001b[1m> Entering new MultiPromptChain chain...\u001b[0m\n",
      "physics: {'input': 'How do you test the efficiency of a buck converter?'}\n",
      "\u001b[1m> Finished chain.\u001b[0m\n"
     ]
    },
    {
     "data": {
      "text/plain": [
       "'To test the efficiency of a buck converter, you can measure the input and output power using a power meter. The efficiency of the buck converter is calculated by dividing the output power by the input power and multiplying by 100 to get a percentage. This will give you an idea of how well the buck converter is converting input power to output power.'"
      ]
     },
     "execution_count": 63,
     "metadata": {},
     "output_type": "execute_result"
    }
   ],
   "source": [
    "chain.run(\"How do you test the efficiency of a buck converter?\")"
   ]
  },
  {
   "cell_type": "code",
   "execution_count": 64,
   "id": "aa8ba84f",
   "metadata": {},
   "outputs": [
    {
     "name": "stdout",
     "output_type": "stream",
     "text": [
      "\n",
      "\n",
      "\u001b[1m> Entering new MultiPromptChain chain...\u001b[0m\n",
      "None: {'input': 'Which type of shoes are needed for hiking Rainbow Mountain?'}\n",
      "\u001b[1m> Finished chain.\u001b[0m\n"
     ]
    },
    {
     "data": {
      "text/plain": [
       "'Sturdy hiking boots with good ankle support and grip are recommended for hiking Rainbow Mountain. The terrain can be steep, rocky, and uneven, so having proper footwear is essential for a safe and comfortable hike.'"
      ]
     },
     "execution_count": 64,
     "metadata": {},
     "output_type": "execute_result"
    }
   ],
   "source": [
    "chain.run(\"Which type of shoes are needed for hiking Rainbow Mountain?\")"
   ]
  },
  {
   "cell_type": "markdown",
   "id": "09e0c60b-7ae0-453e-9467-142d8dafee6e",
   "metadata": {},
   "source": [
    "**Repeat the above at least once for different inputs and chains executions - Be creative!**"
   ]
  }
 ],
 "metadata": {
  "kernelspec": {
   "display_name": "base",
   "language": "python",
   "name": "python3"
  },
  "language_info": {
   "codemirror_mode": {
    "name": "ipython",
    "version": 3
   },
   "file_extension": ".py",
   "mimetype": "text/x-python",
   "name": "python",
   "nbconvert_exporter": "python",
   "pygments_lexer": "ipython3",
   "version": "3.12.7"
  }
 },
 "nbformat": 4,
 "nbformat_minor": 5
}
